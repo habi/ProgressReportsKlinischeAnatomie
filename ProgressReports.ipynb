{
 "cells": [
  {
   "cell_type": "markdown",
   "metadata": {},
   "source": [
    "# Progress reports\n",
    "Generate a randomly sampled list of team members to do internal progress reports"
   ]
  },
  {
   "cell_type": "code",
   "execution_count": 1,
   "metadata": {},
   "outputs": [],
   "source": [
    "# Import necessary modules\n",
    "import requests\n",
    "from bs4 import BeautifulSoup\n",
    "import pandas"
   ]
  },
  {
   "cell_type": "code",
   "execution_count": 2,
   "metadata": {
    "collapsed": true
   },
   "outputs": [],
   "source": [
    "# Load and parse our team website\n",
    "page = requests.get(\"http://www.anaweb.ch/ueber_uns/abteilungen/index_ger.php?key=klin\").text\n",
    "soup = BeautifulSoup(page, 'html.parser')"
   ]
  },
  {
   "cell_type": "code",
   "execution_count": 3,
   "metadata": {},
   "outputs": [],
   "source": [
    "# Generate dataframe to save the data\n",
    "Team = pandas.DataFrame()\n",
    "# Get all names from our page, and save them to a string\n",
    "Team['Name'] = [str(n.string) for n in soup.find_all(itemprop=\"name\")]\n",
    "# Drop 'Universität Bern', which we don't want in the list\n",
    "Team = Team[Team.Name != 'Universität Bern']\n",
    "# Get them functions as strings\n",
    "Team['JobTitle'] = [str(i.string) for i in soup.find_all(itemprop=\"jobTitle\")]\n",
    "# In the first iteration, no one is presenting :)\n",
    "Team['Presenting'] = False"
   ]
  },
  {
   "cell_type": "code",
   "execution_count": 4,
   "metadata": {},
   "outputs": [],
   "source": [
    "# Based on https://stackoverflow.com/a/13842286/323100 we set some JobTitles to presenting\n",
    "for index, row in Team.iterrows():\n",
    "    # Set all 'Doktoranden' and 'Post-Docs' to True\n",
    "    if 'Do' in row.JobTitle:\n",
    "        Team.at[index, 'Presenting'] = True\n",
    "    # Set all 'Assis' and 'Hilfs-Assis' to True   \n",
    "    if 'ssi' in row.JobTitle:\n",
    "        Team.at[index, 'Presenting'] = True\n",
    "    # I guess Valentin should present, too\n",
    "    if 'Geschäftsführender' in row.JobTitle:\n",
    "        Team.at[index, 'Presenting'] = True"
   ]
  },
  {
   "cell_type": "code",
   "execution_count": 5,
   "metadata": {},
   "outputs": [
    {
     "name": "stdout",
     "output_type": "stream",
     "text": [
      "Out of 24 team members, these 8 persons *do not* talk about their work in the labmeeting\n"
     ]
    },
    {
     "data": {
      "text/html": [
       "<div>\n",
       "<style scoped>\n",
       "    .dataframe tbody tr th:only-of-type {\n",
       "        vertical-align: middle;\n",
       "    }\n",
       "\n",
       "    .dataframe tbody tr th {\n",
       "        vertical-align: top;\n",
       "    }\n",
       "\n",
       "    .dataframe thead th {\n",
       "        text-align: right;\n",
       "    }\n",
       "</style>\n",
       "<table border=\"1\" class=\"dataframe\">\n",
       "  <thead>\n",
       "    <tr style=\"text-align: right;\">\n",
       "      <th></th>\n",
       "      <th>Name</th>\n",
       "      <th>JobTitle</th>\n",
       "      <th>Presenting</th>\n",
       "    </tr>\n",
       "  </thead>\n",
       "  <tbody>\n",
       "    <tr>\n",
       "      <th>2</th>\n",
       "      <td>Johannes Dominik Bastian</td>\n",
       "      <td>Gastarzt aus Orthopädischer Chirurgie und Trau...</td>\n",
       "      <td>False</td>\n",
       "    </tr>\n",
       "    <tr>\n",
       "      <th>3</th>\n",
       "      <td>Mathias Bergmann</td>\n",
       "      <td>None</td>\n",
       "      <td>False</td>\n",
       "    </tr>\n",
       "    <tr>\n",
       "      <th>4</th>\n",
       "      <td>Nane Boemke</td>\n",
       "      <td>Leiterin der Prosektur und Organisation Klinis...</td>\n",
       "      <td>False</td>\n",
       "    </tr>\n",
       "    <tr>\n",
       "      <th>5</th>\n",
       "      <td>Regula Buergy-Meyer</td>\n",
       "      <td>Laborantin</td>\n",
       "      <td>False</td>\n",
       "    </tr>\n",
       "    <tr>\n",
       "      <th>8</th>\n",
       "      <td>Hans Grossmann</td>\n",
       "      <td>Präparator</td>\n",
       "      <td>False</td>\n",
       "    </tr>\n",
       "    <tr>\n",
       "      <th>14</th>\n",
       "      <td>Adolfo Odriozola</td>\n",
       "      <td>Laborant</td>\n",
       "      <td>False</td>\n",
       "    </tr>\n",
       "    <tr>\n",
       "      <th>20</th>\n",
       "      <td>Jeannine Wagner-Zimmermann</td>\n",
       "      <td>Laborantin</td>\n",
       "      <td>False</td>\n",
       "    </tr>\n",
       "    <tr>\n",
       "      <th>21</th>\n",
       "      <td>Katrin Weber</td>\n",
       "      <td>None</td>\n",
       "      <td>False</td>\n",
       "    </tr>\n",
       "  </tbody>\n",
       "</table>\n",
       "</div>"
      ],
      "text/plain": [
       "                          Name  \\\n",
       "2     Johannes Dominik Bastian   \n",
       "3             Mathias Bergmann   \n",
       "4                  Nane Boemke   \n",
       "5          Regula Buergy-Meyer   \n",
       "8               Hans Grossmann   \n",
       "14            Adolfo Odriozola   \n",
       "20  Jeannine Wagner-Zimmermann   \n",
       "21                Katrin Weber   \n",
       "\n",
       "                                             JobTitle  Presenting  \n",
       "2   Gastarzt aus Orthopädischer Chirurgie und Trau...       False  \n",
       "3                                                None       False  \n",
       "4   Leiterin der Prosektur und Organisation Klinis...       False  \n",
       "5                                          Laborantin       False  \n",
       "8                                          Präparator       False  \n",
       "14                                           Laborant       False  \n",
       "20                                         Laborantin       False  \n",
       "21                                               None       False  "
      ]
     },
     "execution_count": 5,
     "metadata": {},
     "output_type": "execute_result"
    }
   ],
   "source": [
    "# These persons don't 'Show & Tell'\n",
    "print('Out of %s team members, these %s persons *do not* talk about their work in the labmeeting' %(len(Team),\n",
    "                                                                                                    len(Team[Team['Presenting'] == False])))\n",
    "Team[Team['Presenting'] == False]"
   ]
  },
  {
   "cell_type": "code",
   "execution_count": 6,
   "metadata": {},
   "outputs": [],
   "source": [
    "# Put an empty presenting date in a new column\n",
    "Team['Presented'] = False"
   ]
  },
  {
   "cell_type": "code",
   "execution_count": 11,
   "metadata": {},
   "outputs": [],
   "source": [
    "# Based on https://stackoverflow.com/a/11531402/323100 we set the dates of the team members that already presented\n",
    "Team.loc[Team.Name.str.contains('Cédric'), 'Presented'] = '2018-05-29'\n",
    "Team.loc[Team.Name.str.contains('Anita'), 'Presented'] = '2018-07-03'\n",
    "Team.loc[Team.Name.str.contains('Matthias'), 'Presented'] = '2018-09-18'\n",
    "Team.loc[Team.Name.str.contains('Verdiana'), 'Presented'] = '2018-10-02'"
   ]
  },
  {
   "cell_type": "code",
   "execution_count": 12,
   "metadata": {},
   "outputs": [
    {
     "name": "stdout",
     "output_type": "stream",
     "text": [
      "We already had (or have planned) a progress report\n",
      "- of Cédric Zubler on May 29 in 2018\n",
      "- of Anita Senk on July 03 in 2018\n",
      "- of Matthias Messerli on September 18 in 2018\n",
      "- of Verdiana Trappetti on October 02 in 2018\n"
     ]
    }
   ],
   "source": [
    "# We already had progress reports of these persons\n",
    "print('We already had (or have planned) a progress report')\n",
    "for i, member in Team[Team['Presenting'] & Team['Presented']].sort_values(by='Presented').iterrows():\n",
    "    print('- of', member['Name'], 'on', pandas.to_datetime(member['Presented']).strftime('%B %d in %Y'))"
   ]
  },
  {
   "cell_type": "code",
   "execution_count": 17,
   "metadata": {},
   "outputs": [
    {
     "name": "stdout",
     "output_type": "stream",
     "text": [
      "These are the upcoming people in a random but preferred order.\n",
      "Volounteers will be treated preferentially.\n",
      "\t- Ruslan Hlushchuk\n",
      "\t- Dea Aaldijk\n",
      "\t- Cristian Fernandez Palomo\n",
      "\t- Thomas Alexander Gorr\n",
      "\t- Helena Röss\n",
      "\t- Valentin Djonov\n",
      "\t- Sara Soltermann\n",
      "\t- David Haberthür\n",
      "\t- Oleksiy-Zakhar Khoma\n",
      "\t- Fluri Wieland\n",
      "\t- Marine Potez\n",
      "\t- Sebastian Halm\n"
     ]
    }
   ],
   "source": [
    "# These persons remain\n",
    "print('These are the upcoming people in a random but preferred order.')\n",
    "print('Volounteers will be treated preferentially.')\n",
    "# Cedric and Anita volounteered to present before I started this notebook.\n",
    "# Conventiently, 'random_state=12' samples the team member list in a way that Cedric and Anita appear last in the list.\n",
    "# 'frac=1' gives us the full list, so we just iterate through it for nicely displaying the output.\n",
    "# And since Cedric and Anita are last in the list, we just flip the list '.iloc[::-1]' before iteration\n",
    "for i, member in Team[Team['Presenting'] == True].sample(frac=1, random_state=12).iloc[::-1].iterrows():\n",
    "    if not member['Presented']:\n",
    "        print('\\t-', member['Name'])"
   ]
  },
  {
   "cell_type": "markdown",
   "metadata": {},
   "source": [
    "Now send an calendar update to the group with the addresses from the (internal) [Multimail Tool](https://www.anaintra.unibe.ch/multimail.php)."
   ]
  }
 ],
 "metadata": {
  "kernelspec": {
   "display_name": "Python 3",
   "language": "python",
   "name": "python3"
  },
  "language_info": {
   "codemirror_mode": {
    "name": "ipython",
    "version": 3
   },
   "file_extension": ".py",
   "mimetype": "text/x-python",
   "name": "python",
   "nbconvert_exporter": "python",
   "pygments_lexer": "ipython3",
   "version": "3.6.6"
  }
 },
 "nbformat": 4,
 "nbformat_minor": 2
}
